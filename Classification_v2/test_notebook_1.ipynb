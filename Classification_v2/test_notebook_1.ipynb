{
 "cells": [
  {
   "cell_type": "code",
   "execution_count": 1,
   "metadata": {},
   "outputs": [],
   "source": [
    "import csv\n",
    "import pandas as pd\n",
    "import torch\n",
    "import torchvision\n",
    "import torch.nn as nn\n",
    "import torch.nn.functional as F\n",
    "#from torchvision.transforms import v2\n",
    "#from torchmetrics.classification import BinaryF1Score, BinaryRecall, BinaryPrecision, BinaryAccuracy, AUROC\n",
    "from tqdm.auto import tqdm\n",
    "from dataset_dataloader import get_loader\n",
    "from utils import load_checkpoint, save_checkpoint, evaluate"
   ]
  },
  {
   "cell_type": "code",
   "execution_count": 2,
   "metadata": {},
   "outputs": [],
   "source": [
    "DEVICE = 'cuda' if torch.cuda.is_available() else 'cpu'\n",
    "BATCH_SIZE = 16\n",
    "# #RANDOM_SEED = 42\n",
    "METADATA_CSV_PATH = \"D:/ISIC 2024 - Skin Cancer Detection with 3D-TBP/Data/train-metadata.csv\"\n",
    "METADATA_CSV_PATH_50kSAMPLE = 'D:/ISIC 2024 - Skin Cancer Detection with 3D-TBP/EDA/isic2024_50ksample.csv'\n",
    "MODEL_SAVE_PATH = \"D:/ISIC 2024 - Skin Cancer Detection with 3D-TBP/model_resnet34_aug_2-1.pth\"\n",
    "LEARNING_RATE = 0.01\n",
    "CLASSES = 1\n",
    "EPOCH = 5"
   ]
  },
  {
   "cell_type": "code",
   "execution_count": 3,
   "metadata": {},
   "outputs": [],
   "source": [
    "meta_df_sample = pd.read_csv(METADATA_CSV_PATH_50kSAMPLE, low_memory=False)\n",
    "\n",
    "train_dl, val_dl, test_dl = get_loader(label_df=meta_df_sample, batch_size=32, seed=42)"
   ]
  }
 ],
 "metadata": {
  "kernelspec": {
   "display_name": "base",
   "language": "python",
   "name": "python3"
  },
  "language_info": {
   "codemirror_mode": {
    "name": "ipython",
    "version": 3
   },
   "file_extension": ".py",
   "mimetype": "text/x-python",
   "name": "python",
   "nbconvert_exporter": "python",
   "pygments_lexer": "ipython3",
   "version": "3.11.7"
  }
 },
 "nbformat": 4,
 "nbformat_minor": 2
}
