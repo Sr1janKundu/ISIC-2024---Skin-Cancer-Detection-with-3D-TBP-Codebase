{
 "cells": [
  {
   "cell_type": "code",
   "execution_count": 1,
   "metadata": {},
   "outputs": [],
   "source": [
    "import h5py\n",
    "import os\n",
    "import numpy as np\n",
    "from io import BytesIO\n",
    "from PIL import Image"
   ]
  },
  {
   "cell_type": "code",
   "execution_count": 2,
   "metadata": {},
   "outputs": [],
   "source": [
    "test_hdf5 = 'D:/ISIC 2024 - Skin Cancer Detection with 3D-TBP/Data/test-image.hdf5'\n",
    "output_folder = 'D:/ISIC 2024 - Skin Cancer Detection with 3D-TBP/Data/test-images'\n",
    "    "
   ]
  },
  {
   "cell_type": "code",
   "execution_count": 3,
   "metadata": {},
   "outputs": [],
   "source": [
    "os.chdir('D:\\ISIC 2024 - Skin Cancer Detection with 3D-TBP\\Data')"
   ]
  },
  {
   "cell_type": "code",
   "execution_count": 4,
   "metadata": {},
   "outputs": [
    {
     "data": {
      "text/plain": [
       "'D:\\\\ISIC 2024 - Skin Cancer Detection with 3D-TBP\\\\Data'"
      ]
     },
     "execution_count": 4,
     "metadata": {},
     "output_type": "execute_result"
    }
   ],
   "source": [
    "data_dir = os.getcwd()\n",
    "data_dir"
   ]
  },
  {
   "cell_type": "code",
   "execution_count": 5,
   "metadata": {},
   "outputs": [
    {
     "data": {
      "text/plain": [
       "['isic-2024-challenge.zip',\n",
       " 'sample_submission.csv',\n",
       " 'test-image.hdf5',\n",
       " 'test-images',\n",
       " 'test-metadata.csv',\n",
       " 'train-image',\n",
       " 'train-image.hdf5',\n",
       " 'train-metadata.csv']"
      ]
     },
     "execution_count": 5,
     "metadata": {},
     "output_type": "execute_result"
    }
   ],
   "source": [
    "os.listdir()"
   ]
  },
  {
   "cell_type": "code",
   "execution_count": 6,
   "metadata": {},
   "outputs": [],
   "source": [
    "train_hdf5 = os.path.join(data_dir, 'train-image.hdf5')\n",
    "test_hdf5 = os.path.join(data_dir, 'test-image.hdf5')\n",
    "test_jpg = os.path.join(data_dir, 'test-images')"
   ]
  },
  {
   "cell_type": "code",
   "execution_count": 7,
   "metadata": {},
   "outputs": [
    {
     "data": {
      "text/plain": [
       "('D:\\\\ISIC 2024 - Skin Cancer Detection with 3D-TBP\\\\Data\\\\test-image.hdf5',\n",
       " 'D:\\\\ISIC 2024 - Skin Cancer Detection with 3D-TBP\\\\Data\\\\test-images')"
      ]
     },
     "execution_count": 7,
     "metadata": {},
     "output_type": "execute_result"
    }
   ],
   "source": [
    "test_hdf5, test_jpg"
   ]
  },
  {
   "cell_type": "code",
   "execution_count": 8,
   "metadata": {},
   "outputs": [],
   "source": [
    "os.makedirs(test_jpg, exist_ok=True)"
   ]
  },
  {
   "cell_type": "code",
   "execution_count": 9,
   "metadata": {},
   "outputs": [],
   "source": [
    "with h5py.File(test_hdf5, 'r') as hdf5_f:\n",
    "    for image_name in hdf5_f:\n",
    "        img = hdf5_f[image_name]\n",
    "        image_bytes = img[()]\n",
    "        try:\n",
    "            image = Image.open(BytesIO(image_bytes))\n",
    "            output_filename = os.path.join(test_jpg, f\"{image_name}.jpg\")\n",
    "            image.save(output_filename, 'JPEG')\n",
    "        except Exception as e:\n",
    "            print(f\"Error processing {image_name}: {str(e)}\")"
   ]
  }
 ],
 "metadata": {
  "kernelspec": {
   "display_name": "base",
   "language": "python",
   "name": "python3"
  },
  "language_info": {
   "codemirror_mode": {
    "name": "ipython",
    "version": 3
   },
   "file_extension": ".py",
   "mimetype": "text/x-python",
   "name": "python",
   "nbconvert_exporter": "python",
   "pygments_lexer": "ipython3",
   "version": "3.11.7"
  }
 },
 "nbformat": 4,
 "nbformat_minor": 2
}
