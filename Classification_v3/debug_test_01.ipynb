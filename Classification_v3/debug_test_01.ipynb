{
 "cells": [
  {
   "cell_type": "markdown",
   "metadata": {},
   "source": [
    "> Testing with concat public test data in order to simulate >50000 test images in private test data ; to understand \"submission.csv\" not found error in ScrewStone_01v5."
   ]
  },
  {
   "cell_type": "code",
   "execution_count": 10,
   "metadata": {},
   "outputs": [],
   "source": [
    "import h5py"
   ]
  },
  {
   "cell_type": "code",
   "execution_count": 2,
   "metadata": {},
   "outputs": [],
   "source": [
    "def expand_hdf5_dataset(original_hdf5_path, expanded_hdf5_path, target_image_count=60000):\n",
    "    \n",
    "    with h5py.File(original_hdf5_path, 'r') as original_hdf5:\n",
    "        image_names = list(original_hdf5.keys())\n",
    "        image_count = len(image_names)\n",
    "\n",
    "        with h5py.File(expanded_hdf5_path, 'w') as expanded_hdf5:\n",
    "            for i in range(target_image_count):\n",
    "                original_image_name = image_names[i % image_count]\n",
    "                new_image_name = f\"{original_image_name}_copy_{i // image_count}\"\n",
    "                image_data = original_hdf5[original_image_name][()]\n",
    "                expanded_hdf5.create_dataset(new_image_name, data=image_data)"
   ]
  },
  {
   "cell_type": "code",
   "execution_count": 3,
   "metadata": {},
   "outputs": [],
   "source": [
    "TEST_IMG_HDF5_ORG = \"D:\\\\ISIC 2024 - Skin Cancer Detection with 3D-TBP\\\\Data\\\\test-image.hdf5\" \n",
    "TEST_IMG_HDF5_MOD = \"D:\\\\ISIC 2024 - Skin Cancer Detection with 3D-TBP\\\\Data\\\\test-images-mod.hdf5\" \n",
    "expand_hdf5_dataset(TEST_IMG_HDF5_ORG, TEST_IMG_HDF5_MOD)"
   ]
  },
  {
   "cell_type": "code",
   "execution_count": 4,
   "metadata": {},
   "outputs": [
    {
     "data": {
      "text/plain": [
       "60000"
      ]
     },
     "execution_count": 4,
     "metadata": {},
     "output_type": "execute_result"
    }
   ],
   "source": [
    "with h5py.File(TEST_IMG_HDF5_MOD, 'r') as file:\n",
    "    keys = list(file.keys())\n",
    "\n",
    "len(keys)"
   ]
  },
  {
   "cell_type": "code",
   "execution_count": 5,
   "metadata": {},
   "outputs": [],
   "source": [
    "l = [key.split('_copy')[0] for key in keys]"
   ]
  },
  {
   "cell_type": "code",
   "execution_count": 6,
   "metadata": {},
   "outputs": [
    {
     "data": {
      "text/plain": [
       "{'ISIC_0015657', 'ISIC_0015729', 'ISIC_0015740'}"
      ]
     },
     "execution_count": 6,
     "metadata": {},
     "output_type": "execute_result"
    }
   ],
   "source": [
    "set(l)"
   ]
  },
  {
   "cell_type": "code",
   "execution_count": 7,
   "metadata": {},
   "outputs": [],
   "source": [
    "from utils import save_hdf5_as_jpg\n",
    "from dataset_dataloader import get_loader\n",
    "from evaluate import load_model, create_submission"
   ]
  },
  {
   "cell_type": "code",
   "execution_count": 8,
   "metadata": {},
   "outputs": [],
   "source": [
    "TEST_IMG_DIR_MOD = \"D:\\\\ISIC 2024 - Skin Cancer Detection with 3D-TBP\\\\Data\\\\test-images-mod\" \n",
    "save_hdf5_as_jpg(TEST_IMG_HDF5_MOD, TEST_IMG_DIR_MOD)"
   ]
  },
  {
   "cell_type": "code",
   "execution_count": 9,
   "metadata": {},
   "outputs": [],
   "source": [
    "train_dl, val_dl, test_dl = get_loader(test_data_dir=TEST_IMG_DIR_MOD)"
   ]
  }
 ],
 "metadata": {
  "kernelspec": {
   "display_name": "base",
   "language": "python",
   "name": "python3"
  },
  "language_info": {
   "codemirror_mode": {
    "name": "ipython",
    "version": 3
   },
   "file_extension": ".py",
   "mimetype": "text/x-python",
   "name": "python",
   "nbconvert_exporter": "python",
   "pygments_lexer": "ipython3",
   "version": "3.11.7"
  }
 },
 "nbformat": 4,
 "nbformat_minor": 2
}
